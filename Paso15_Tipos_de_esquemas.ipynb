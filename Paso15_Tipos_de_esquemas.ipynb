{
 "cells": [
  {
   "cell_type": "markdown",
   "metadata": {},
   "source": [
    "# Estudio de los diferentes esquemas de diferencias finitas"
   ]
  },
  {
   "cell_type": "markdown",
   "metadata": {},
   "source": [
    "## Esquema de primer orden en espacio y tiempo, FTBS"
   ]
  },
  {
   "cell_type": "markdown",
   "metadata": {},
   "source": [
    "Notemos que la idea detrás de estas aproximaciones es utilizar algunos de los términos de la serie de Taylor alrededor de un punto en la malla y para un tiempo dado, es decir:\n",
    "\n",
    "$$u(x,t+\\Delta t)\\approx u(x,t)+\\frac{\\partial u}{\\partial t} \\Delta t + +\\frac{\\partial^2 u}{\\partial t^2} (\\Delta t)^2 + ...$$\n",
    "\n",
    "De donde tomando una aproximación a primer orden tenemos $$u(x,t+\\Delta t)\\approx u(x,t)+\\frac{\\partial u}{\\partial t} \\Delta t$$\n",
    "\n",
    "De la ecuación anterior $\\frac{\\partial u}{\\partial t}$ se puede despejar de la ecuación diferencial que se quiere resolver.\n",
    "\n",
    "Discretizando los operadores elesquema que hemos utilizado hasta ahora consiste en tomar una diferencia hacia adelante en el tiempo y hacia atras en el espacio. \n",
    "\n",
    "La diferencia hacia adelante es \n",
    "$$\\frac{\\partial u}{\\partial t} \\approx \\frac{u_i^{n+1}-u_i^n}{\\Delta t} + O(\\Delta t)$$\n",
    "\n",
    "La diferencia hacia atrás es \n",
    "$$\\frac{\\partial u}{\\partial x} \\approx \\frac{u_i^{n}-u_{i-1}^n}{\\Delta x} + O(\\Delta x)$$\n",
    "\n",
    "Tomando como ejemplo la ecuación de burgers invísida $$\\frac{\\partial u}{\\partial t} + \\frac{1}{2}\\frac{\\partial u^2}{\\partial x}=0$$\n",
    "Y sustituyendo los operadores discretizados tenemos\n",
    "\n",
    "$$\\frac{u_i^{n+1}-u_i^n}{\\Delta t} + \\frac{1}{2} \\frac{(u_i^{n})^2-(u_{i-1}^n)^2}{\\Delta x} + O(\\Delta t, \\Delta x) = 0 $$\n",
    "\n",
    "De donde $$u_i^{n+1} = u_i^n - \\frac{\\Delta t}{2 \\Delta x} \\left((u_i^{n})^2-(u_{i-1}^n)^2\\right) + O(\\Delta t^2, \\Delta x\\Delta t)$$\n",
    "\n",
    "Notemos que este método solamente es estable si $\\frac{\\Delta t}{2 \\Delta x} < 1$"
   ]
  },
  {
   "cell_type": "markdown",
   "metadata": {},
   "source": [
    "## Esquema de segundo orden en espacio y primero en tiempo, FTCS"
   ]
  },
  {
   "cell_type": "markdown",
   "metadata": {},
   "source": [
    "Resulta que se puede aproximar $\\frac{\\partial u}{\\partial x}$ a segundo orden tomando una diferencia centrada, es decir\n",
    "$$\\frac{\\partial u}{\\partial x} \\approx \\frac{u_{i+1}^{n}-u_{i-1}^n}{2\\Delta x} + O(\\Delta x^2)$$\n",
    "\n",
    "Sustiteyendo esta aproximación en la ecuación de burgers invísida, junto con la diferencia hacia adelante en el tiempo tenemos\n",
    "\n",
    "$$\\frac{u_i^{n+1}-u_i^n}{\\Delta t} + \\frac{1}{2} \\frac{(u_{i+1}^{n})^2-(u_{i-1}^n)^2}{2\\Delta x} + O(\\Delta t, \\Delta x^2) = 0 $$\n",
    "\n",
    "De donde $$u_i^{n+1} = u_i^{n}-\\frac{\\Delta t}{4 \\Delta x} \\left((u_{i+1}^{n})^2-(u_{i-1}^n)^2\\right) + O(\\Delta t^2, \\Delta x^2\\Delta t)$$\n",
    "\n",
    "De forma no intuitiva, este método es inestable debido a que los errores numericos crecen exponencialmente, destruyendo a la solución. El método de Lax-Friedrichs corrige este error."
   ]
  },
  {
   "cell_type": "markdown",
   "metadata": {},
   "source": [
    "## Esquema de segundo orden en espacio y primero en tiempo, Lax-Friedrichs"
   ]
  },
  {
   "cell_type": "markdown",
   "metadata": {},
   "source": [
    "El método de Lax-Friedrichs es análogo al esquema FTCS pero cambiando el valor $u_i^n$ por el promedio de sus vecinos, es decir $$u_i^n = \\frac{u_{i-1}^n +u_{i+1}^n}{2}$$\n",
    "\n",
    "Por lo tanto en la ecuación de Burgers invísida tenemos\n",
    "$$u_i^{n+1} = \\frac{u_{i-1}^n +u_{i+1}^n}{2}-\\frac{\\Delta t}{4 \\Delta x} \\left((u_{i+1}^{n})^2-(u_{i-1}^n)^2\\right) + O(\\Delta t^2, \\Delta x^2\\Delta t)$$\n",
    "\n",
    "La estabilidad de este método viene de introducir de forma implícita un término viscoso a la ecuación que mantiene por debajo los errores numericos.\n",
    "\n",
    "Reorganizando la ecuación anterior tenemos \n",
    "\n",
    "$$\\frac{u_i^{n+1}-u_i^n}{\\Delta t} + \\frac{1}{2} \\frac{(u_{i+1}^{n})^2-(u_{i-1}^n)^2}{2\\Delta x} = \\frac{\\Delta x^2}{2\\Delta t} \\frac{u_{i+1}^n-2u_i^n+u_{i-1}^n}{\\Delta x^2}$$\n",
    "\n",
    "Que corresponde a la ecuación diferencial $$\\frac{\\partial u}{\\partial t} + \\frac{1}{2} \\frac{\\partial u^2}{\\partial x} = \\frac{\\Delta x^2}{2\\Delta t} \\frac{\\partial^2 u}{\\partial x^2}$$"
   ]
  },
  {
   "cell_type": "markdown",
   "metadata": {},
   "source": [
    "## Esquema de segundo orden en espacio y tiempo, Leapfrog"
   ]
  },
  {
   "cell_type": "markdown",
   "metadata": {},
   "source": [
    "Así como en el caso de FTCS, y en Lax-Friedrichs, se aproximó a segundo orden la derivada espacial realizando\n",
    "\n",
    "$$\\frac{u_i^{n}-u_{i-1}^n}{\\Delta x} + O(\\Delta x) \\rightarrow \\frac{u_{i+1}^{n}-u_{i-1}^n}{2\\Delta x} + O(\\Delta x^2)$$\n",
    "\n",
    "En el esquema de Leapfrog pasamos a la derivada central en el tiempo, es decir\n",
    "$$\\frac{u_i^{n+1}-u_{i}^n}{\\Delta t} + O(\\Delta t) \\rightarrow \\frac{u_{i}^{n+1}-u_{i}^{n-1}}{2\\Delta t} + O(\\Delta t^2)$$\n",
    "\n",
    "Sustituyendo este esquema en la ecuación de Burgers invísida obtenemos\n",
    "\n",
    "$$\\frac{u_{i}^{n+1}-u_{i}^{n-1}}{2\\Delta t} + \\frac{1}{2} \\frac{(u_{i+1}^{n})^2-(u_{i-1}^n)^2}{2\\Delta x} + O(\\Delta t^2, \\Delta x^2) = 0 $$\n",
    "\n",
    "De donde \n",
    "\n",
    "$$u_{i}^{n+1} = u_{i}^{n-1} - \\frac{\\Delta t}{2\\Delta x} \\left((u_{i+1}^{n})^2-(u_{i-1}^n)^2\\right) + O(\\Delta t^3, \\Delta x^2\\Delta t)$$\n",
    "\n",
    "Este esquema al igual que en los anteriores es estable siempre que $\\Delta t < \\frac{\\Delta x}{2}$\n",
    "\n",
    "Notemos que este esquema desacopla los pasos temporales según su paridad. "
   ]
  },
  {
   "cell_type": "code",
   "execution_count": null,
   "metadata": {
    "collapsed": true
   },
   "outputs": [],
   "source": []
  }
 ],
 "metadata": {
  "kernelspec": {
   "display_name": "Python 2",
   "language": "python",
   "name": "python2"
  },
  "language_info": {
   "codemirror_mode": {
    "name": "ipython",
    "version": 2
   },
   "file_extension": ".py",
   "mimetype": "text/x-python",
   "name": "python",
   "nbconvert_exporter": "python",
   "pygments_lexer": "ipython2",
   "version": "2.7.11"
  }
 },
 "nbformat": 4,
 "nbformat_minor": 0
}
