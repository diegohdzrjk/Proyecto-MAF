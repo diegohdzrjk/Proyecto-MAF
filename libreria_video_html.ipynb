{
 "cells": [
  {
   "cell_type": "markdown",
   "metadata": {},
   "source": [
    "# Librería para mostrar videos en un notebook\n",
    "\n",
    "> Dr. Ricardo Méndez Fragoso $\\mathbb{R}i\\vec c \\hbar$\n",
    "\n",
    "Este *notebook* se utiliza como módulo o librería en [\"Ejemplo_de_animacion.ipynb\"](http://nbviewer.jupyter.org/url/sistemas.fciencias.unam.mx/%7Erich/herramientas/notebooks/Ejemplo_de_animacion.ipynb), aunque se puede utilizar en cualquier *notebook* en el que se requiera desplegar animaciones o videos generados a partir de una simulación o datos utilizados en el mismo.\n",
    "\n",
    "Este script está basado en el [notebook](http://nbviewer.jupyter.org/url/jakevdp.github.io/downloads/notebooks/AnimationEmbedding.ipynb) realizado por [jakevdp](https://jakevdp.github.io). Las modificaciones se han hecho son:\n",
    "\n",
    "* Se ha hecho una explicación de los comandos utilizados.\n",
    "* Se ha modificado el tamaño del video desplegado.\n",
    "* Se han agregado algunos comandos para mejorar la compatibilidad con diferentes navegadores.\n",
    "\n",
    "Antes de empezar hay que aclarar que **IPython** no tiene una herramienta nativa para hacer videos o animaciones. De hecho ningún lenguaje de programación lo tiene, ya que todos utilizan un codificador externo para hacer la compresión del video y/o scripts de terceros para generar la animación. Para hacer uso de este notebook es necesario tener instalado algún compresor de video como [FFmpeg](https://www.ffmpeg.org) o [mencoder](http://www.mplayerhq.hu/design7/news.html). En particular, este notebook se ha utilizado en computadoras con [FFmpeg](https://www.ffmpeg.org) instalado.\n",
    "\n",
    "> Nota: Los codificadores externos tienen diferentes formas de instalación. En el caso de linux, dependiendo de la distribución que se tenga, se recomienda utilizar el instalador nativo como apt, yum, etc. En el caso de windows usar el instalador que viene por default. En el caso de Mac OS X se recomienda utilizar [Homebrew](http://brew.sh) para instalar FFmpeg.\n",
    "\n",
    "Para comenzar utilizaremos las librerías de *matplotlib* para los scripts de animaciones y *tempfile* para manejar un archivo en memoria."
   ]
  },
  {
   "cell_type": "code",
   "execution_count": 1,
   "metadata": {
    "collapsed": true
   },
   "outputs": [],
   "source": [
    "from matplotlib import animation, pyplot as plt\n",
    "from tempfile import NamedTemporaryFile"
   ]
  },
  {
   "cell_type": "markdown",
   "metadata": {},
   "source": [
    "El siguiente código propiamente no es de *python*, más bien es de HTML y básicamente este fragmento se asigna a una variable, ```VIDEO_TAG```, como una cadena de caracteres. Este código en HTML es para desplegar en el navegador el video generado. En la primera línea se definen los atributos del video: controles de video, ejecución automática y el ancho en pixeles del recuadro para el video. En la segunda línea se pone el lugar en donde se encuentra el video y en caso de no encontrarse o de que el navegador no sea compatible se desplegará una leyenda con el error. Finalmente en la cuarta línea se cierra el código de HTML."
   ]
  },
  {
   "cell_type": "code",
   "execution_count": 2,
   "metadata": {
    "collapsed": true
   },
   "outputs": [],
   "source": [
    "VIDEO_TAG = \"\"\"<video controls autoplay width=\"420\">\n",
    " <source src=\"data:{0}\">\n",
    " Video no soportado por el Navegador. Your browser does not support the video tag.\n",
    "</video>\"\"\""
   ]
  },
  {
   "cell_type": "markdown",
   "metadata": {},
   "source": [
    "A continuación se presenta la función ```anim_to_html``` que manda la animación en la variable ```anim``` a un archivo temporal que es utilizado por el compresor FFmpeg para generar el video. A lo largo de este proceso se agregan los códecs que utilizará FFmpeg para hacer la compresión o formato del video. Éstos se agregan en una lista por medio de la variable ```extra_args```:\n",
    "```python\n",
    "extra_args=['-vcodec', 'libx264', '-pix_fmt', 'yuv420p']\n",
    "```\n",
    "Estos códecs son los más compatibles con diferentes navegadores como Firefox, Chrome y Safari. Finalmente, la salida de esta función pone en la variable ```VIDEO_TAG``` al video como atributo."
   ]
  },
  {
   "cell_type": "code",
   "execution_count": 3,
   "metadata": {
    "collapsed": true
   },
   "outputs": [],
   "source": [
    "def anim_to_html(anim):\n",
    "    if not hasattr(anim, '_encoded_video'):\n",
    "        with NamedTemporaryFile(suffix='.m4v') as archivo:\n",
    "            anim.save(archivo.name, fps=20, extra_args=['-vcodec', 'libx264', '-pix_fmt', 'yuv420p'])\n",
    "            video = open(archivo.name, \"rb\").read()\n",
    "        anim._encoded_video = 'video/mp4;base64,' + video.encode(\"base64\")\n",
    "    # prevent figure displayed as a PNG below the animation\n",
    "    plt.close()\n",
    "    \n",
    "    return VIDEO_TAG.format(anim._encoded_video)"
   ]
  },
  {
   "cell_type": "markdown",
   "metadata": {},
   "source": [
    "Para terminar este script se asigna a la variable ```animation.Animation._repr_html_``` la función ```anim_to_html``` para que se despliegue el video en el notebook."
   ]
  },
  {
   "cell_type": "code",
   "execution_count": 4,
   "metadata": {
    "collapsed": true
   },
   "outputs": [],
   "source": [
    "animation.Animation._repr_html_ = anim_to_html"
   ]
  },
  {
   "cell_type": "markdown",
   "metadata": {},
   "source": [
    "Como se puede apreciar, este script básicamente utiliza un codificador externo como FFmpeg para generar el video que se introduce en la variable ```VIDEO_TAG```. Ésta a su vez contiene el código HTML para desplegar el video en el *notebook*.\n",
    "\n",
    "Ir al [Ejemplo_de_animacion.ipynb](http://nbviewer.jupyter.org/url/sistemas.fciencias.unam.mx/%7Erich/herramientas/notebooks/Ejemplo_de_animacion.ipynb)\n",
    "\n",
    "Regresar a las [herramientas.](http://sistemas.fciencias.unam.mx/~rich/herramientas/index.html)"
   ]
  }
 ],
 "metadata": {
  "kernelspec": {
   "display_name": "Python 2",
   "language": "python",
   "name": "python2"
  },
  "language_info": {
   "codemirror_mode": {
    "name": "ipython",
    "version": 2
   },
   "file_extension": ".py",
   "mimetype": "text/x-python",
   "name": "python",
   "nbconvert_exporter": "python",
   "pygments_lexer": "ipython2",
   "version": "2.7.11"
  }
 },
 "nbformat": 4,
 "nbformat_minor": 0
}
