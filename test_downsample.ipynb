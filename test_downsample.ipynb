{
 "cells": [
  {
   "cell_type": "markdown",
   "metadata": {},
   "source": [
    "## Test de la funcion \"downsample\" del modulo maf_IO.py\n",
    "\n",
    "Este test necesita disponer de unos archivos \"test_space.cvs\" y \"test_data.cvs\" en el mismo directorio que este notebook, sobre los cuales hará la prueba."
   ]
  },
  {
   "cell_type": "code",
   "execution_count": 1,
   "metadata": {
    "collapsed": false
   },
   "outputs": [],
   "source": [
    "import time\n",
    "import numpy as np\n",
    "import maf_IO as IO\n",
    "from sys import stdout"
   ]
  },
  {
   "cell_type": "markdown",
   "metadata": {},
   "source": [
    "Cargamos primero los datos de prueba, y de una vez cronometramos cuánto le toma."
   ]
  },
  {
   "cell_type": "code",
   "execution_count": 2,
   "metadata": {
    "collapsed": false,
    "scrolled": true
   },
   "outputs": [
    {
     "name": "stdout",
     "output_type": "stream",
     "text": [
      "loading time . . . 13.1552970409 s\n",
      "datasets: 6\ttimes: 1001\ty's: 31,\tx's: 51\n"
     ]
    }
   ],
   "source": [
    "# test data\n",
    "stdout.write(\"\\rloading time . . . \")\n",
    "t0 = time.time()\n",
    "data, space = IO.read(prefix=\"test\")\n",
    "t = time.time()-t0\n",
    "stdout.write(\"\\rloading time . . . {0} s\".format(t))\n",
    "stdout.flush()\n",
    "print \"\\ndatasets: {0}\\ttimes: {1}\\ty's: {2},\\tx's: {3}\".format(*data.shape)"
   ]
  },
  {
   "cell_type": "markdown",
   "metadata": {},
   "source": [
    "Ahora hacemos el muestreo y comparamos con lo que esperaríamos en un espacio continuo."
   ]
  },
  {
   "cell_type": "code",
   "execution_count": 3,
   "metadata": {
    "collapsed": false
   },
   "outputs": [
    {
     "name": "stdout",
     "output_type": "stream",
     "text": [
      "Numero total de muestras:\t1001\n",
      "Numero esperado de muestras:\t260\n",
      "Numero de muestras tomadas:\t254\n"
     ]
    }
   ],
   "source": [
    "min_step = 0.00010 # distancia minima que vamos a permitir entre tiempos, en segundos\n",
    "tol = 0.15 # tolerancia que vamos a permitir, en porcentaje del paso desado\n",
    "# i.e. la funcion toma como bueno un paso \"s\" que caiga dentro de [(1-tol)*min_step,(1+tol)*min_step]\n",
    "#####################################################################################################\n",
    "print \"Numero total de muestras:\\t{}\".format(len(space[0]))\n",
    "print \"Numero esperado de muestras:\\t{}\".format(int(space[0][-1]/min_step)+1)\n",
    "stime = IO.downsample(space[0],min_sep=min_step,tol=tol)\n",
    "print \"Numero de muestras tomadas:\\t{}\".format(len(stime))"
   ]
  },
  {
   "cell_type": "markdown",
   "metadata": {},
   "source": [
    "Escribimos el espacio muestreado, por si quieres ver largas listas de floats."
   ]
  },
  {
   "cell_type": "code",
   "execution_count": 8,
   "metadata": {
    "collapsed": false,
    "scrolled": true
   },
   "outputs": [
    {
     "name": "stdout",
     "output_type": "stream",
     "text": [
      "\t. . . space file already exists\n",
      "\t. . . data file already exists, but space is unchanged; nothing written\n",
      "\r",
      "writing time: 0.0130889415741 s"
     ]
    }
   ],
   "source": [
    "t0 = time.time()\n",
    "a = IO.outwrite(space, data, samp_steps=[min_step, None, None], fprefix=\"samp-test\", tol=tol)\n",
    "t = time.time()-t0\n",
    "stdout.write(\"\\rwriting time: {0} s\".format(t))\n",
    "stdout.flush()"
   ]
  },
  {
   "cell_type": "markdown",
   "metadata": {},
   "source": [
    "Ahora leamos el nuevo archivo, de la misma forma que antes, para verificar el cambio."
   ]
  },
  {
   "cell_type": "code",
   "execution_count": 9,
   "metadata": {
    "collapsed": false
   },
   "outputs": [
    {
     "name": "stdout",
     "output_type": "stream",
     "text": [
      "loading time . . . 3.27833485603 s\n",
      "datasets: 6\ttimes: 254\ty's: 31,\tx's: 51\n"
     ]
    }
   ],
   "source": [
    "# sampled data\n",
    "stdout.write(\"\\rloading time . . . \")\n",
    "t0 = time.time()\n",
    "new_data, new_space = IO.read(prefix=\"samp-test\")\n",
    "t = time.time()-t0\n",
    "stdout.write(\"\\rloading time . . . {0} s\".format(t))\n",
    "stdout.flush()\n",
    "print \"\\ndatasets: {0}\\ttimes: {1}\\ty's: {2},\\tx's: {3}\".format(*new_data.shape)"
   ]
  },
  {
   "cell_type": "code",
   "execution_count": 13,
   "metadata": {
    "collapsed": false
   },
   "outputs": [
    {
     "data": {
      "image/png": "[encoded data removed]",
      "text/plain": [
       "<matplotlib.figure.Figure at 0x7f9450f42ed0>"
      ]
     },
     "metadata": {},
     "output_type": "display_data"
    }
   ],
   "source": [
    "import matplotlib.pyplot as plt\n",
    "%matplotlib inline\n",
    "a = [0.000010333,1.04751524665629E-005,1.06364923597241E-005,1.07956547207445E-005,9.69773237030349E-006,9.77991147535172E-006,9.8747500051893E-006,9.97522532516265E-006,0.000010072,1.01902714450768E-005,1.02950533551036E-005,1.04115950024484E-005,1.05181984838864E-005,1.05948470836672E-005,1.06868122251667E-005,1.07676486597011E-005,1.08583726480567E-005,1.09518145783595E-005,1.10398272881627E-005,9.74735612860257E-006,9.81613539438169E-006,9.89405678169573E-006,9.97325420830584E-006,1.00453933778662E-005,0.000010133,1.01936428633419E-005,0.000010256,1.03192039934087E-005,1.03766767046688E-005,0.000010449,1.05084263502383E-005,1.05758383808697E-005,1.06443036131194E-005,1.07066209908955E-005,1.07841650523266E-005,1.08482362569836E-005,1.09203580869882E-005,1.099316534622E-005,1.1059326036503E-005,1.11405976452928E-005,1.12075996850933E-005,1.12798553128061E-005,9.71794915427147E-006,9.76085586273186E-006,9.80425666702068E-006,9.84811084399026E-006,0.000009899,9.9438679932877E-006,9.98913330585503E-006,1.00348082026342E-005,1.00809134751696E-005,1.01341616823601E-005,1.01811030799679E-005,1.02283090195443E-005,1.02758892763024E-005,1.03238338963043E-005,1.03788722042561E-005,1.04274310555401E-005,1.04762998801509E-005,1.05253210117703E-005,1.0574566701373E-005,1.06308212515109E-005,1.06803953511795E-005,0.00001073,1.07766913282742E-005,1.08188115366971E-005,1.08660857571464E-005,0.000010906,1.09455004666551E-005,0.000010985,1.10247016279869E-005,1.10708039081792E-005,1.11110741711873E-005,1.1151629477903E-005,1.11924577695368E-005,1.12335026033077E-005,1.12801954831974E-005,1.13206630397531E-005,1.13613110844501E-005,1.14021827837083E-005,1.14432478700466E-005,1.14903832665952E-005,1.15316306132768E-005,0.000011573,9.67461498443381E-006,9.7014167416234E-006,9.72829018339183E-006,9.75528958455129E-006,9.7816354996639E-006,9.80608874407612E-006,9.83041195692144E-006,9.85468543535139E-006,9.87464251294725E-006,9.88090681162317E-006,9.88586959410707E-006,9.89110525495421E-006,9.89660271875198E-006,9.90232630879314E-006,9.90830089469706E-006,9.91453476914994E-006,0.000009921,9.92774996127111E-006,9.93468627363868E-006,9.94186245772619E-006,9.94928230185592E-006,9.95693312894194E-006,9.96316199339329E-006,9.96854419132434E-006,9.97410702485821E-006,9.97978188735393E-006,9.9856506350555E-006,9.99173649059919E-006,0.000009998,1.00045522407886E-005,1.00112475508976E-005,1.00180714316426E-005,1.00250815185381E-005,1.00322564486476E-005,1.00395884281511E-005,1.00471136706714E-005,1.00548409600891E-005,1.00627685435974E-005,1.00708392832662E-005,0.000010079,1.00872906981309E-005,1.00957966573832E-005,1.01044960517107E-005,1.01133403393055E-005,1.01223333296896E-005,1.01314587912184E-005,1.01391284824221E-005,1.01461936632924E-005,1.01534871048445E-005,0.000010161,1.01687473064848E-005,1.01767083995306E-005,1.01848863782903E-005,1.01932785384787E-005,1.02018821400494E-005,1.02092467779179E-005,1.02153264295646E-005,1.02215704284566E-005,0.000010228,1.02345401761072E-005,1.02413371096135E-005,1.02483412000439E-005,1.02555504000886E-005,0.000010263,1.02705759546275E-005,1.02783882303021E-005,1.02863974586614E-005,1.02945725690914E-005,1.03029155740432E-005,1.03114500282174E-005,1.0320173908697E-005,1.03290851986633E-005,1.03381569224934E-005,1.03473824911912E-005,1.03567891504763E-005,1.03663757898172E-005,1.03761404193349E-005,1.0386081057434E-005,1.0396195731127E-005,1.04064824763505E-005,1.04169038938442E-005,1.04274069870896E-005,1.04380558201963E-005,1.04488704272599E-005,1.04598488725053E-005,0.000010471]\n",
    "plt.hist(a, 50);"
   ]
  },
  {
   "cell_type": "code",
   "execution_count": null,
   "metadata": {
    "collapsed": true
   },
   "outputs": [],
   "source": []
  },
  {
   "cell_type": "code",
   "execution_count": null,
   "metadata": {
    "collapsed": true
   },
   "outputs": [],
   "source": []
  }
 ],
 "metadata": {
  "kernelspec": {
   "display_name": "Python 2",
   "language": "python",
   "name": "python2"
  },
  "language_info": {
   "codemirror_mode": {
    "name": "ipython",
    "version": 2
   },
   "file_extension": ".py",
   "mimetype": "text/x-python",
   "name": "python",
   "nbconvert_exporter": "python",
   "pygments_lexer": "ipython2",
   "version": "2.7.11"
  }
 },
 "nbformat": 4,
 "nbformat_minor": 0
}
