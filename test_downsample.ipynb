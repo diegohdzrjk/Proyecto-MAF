{
 "cells": [
  {
   "cell_type": "markdown",
   "metadata": {},
   "source": [
    "## Test de la funcion \"downsample\" del modulo maf_IO.py\n",
    "\n",
    "Este test necesita disponer de unos archivos \"test_space.cvs\" y \"test_data.cvs\" en el mismo directorio que este notebook, sobre los cuales hará la prueba."
   ]
  },
  {
   "cell_type": "code",
   "execution_count": 1,
   "metadata": {
    "collapsed": false
   },
   "outputs": [],
   "source": [
    "import time\n",
    "import numpy as np\n",
    "import maf_IO as IO\n",
    "from sys import stdout"
   ]
  },
  {
   "cell_type": "markdown",
   "metadata": {},
   "source": [
    "Cargamos primero los datos de prueba, y de una vez cronometramos cuánto le toma."
   ]
  },
  {
   "cell_type": "code",
   "execution_count": 2,
   "metadata": {
    "collapsed": false,
    "scrolled": true
   },
   "outputs": [
    {
     "name": "stdout",
     "output_type": "stream",
     "text": [
      "loading time . . . 13.1552970409 s\n",
      "datasets: 6\ttimes: 1001\ty's: 31,\tx's: 51\n"
     ]
    }
   ],
   "source": [
    "# test data\n",
    "stdout.write(\"\\rloading time . . . \")\n",
    "t0 = time.time()\n",
    "data, space = IO.read(prefix=\"test\")\n",
    "t = time.time()-t0\n",
    "stdout.write(\"\\rloading time . . . {0} s\".format(t))\n",
    "stdout.flush()\n",
    "print \"\\ndatasets: {0}\\ttimes: {1}\\ty's: {2},\\tx's: {3}\".format(*data.shape)"
   ]
  },
  {
   "cell_type": "markdown",
   "metadata": {},
   "source": [
    "Ahora hacemos el muestreo y comparamos con lo que esperaríamos en un espacio continuo."
   ]
  },
  {
   "cell_type": "code",
   "execution_count": 3,
   "metadata": {
    "collapsed": false
   },
   "outputs": [
    {
     "name": "stdout",
     "output_type": "stream",
     "text": [
      "Numero total de muestras:\t1001\n",
      "Numero esperado de muestras:\t260\n",
      "Numero de muestras tomadas:\t254\n"
     ]
    }
   ],
   "source": [
    "min_step = 0.00010 # distancia minima que vamos a permitir entre tiempos, en segundos\n",
    "tol = 0.15 # tolerancia que vamos a permitir, en porcentaje del paso desado\n",
    "# i.e. la funcion toma como bueno un paso \"s\" que caiga dentro de [(1-tol)*min_step,(1+tol)*min_step]\n",
    "#####################################################################################################\n",
    "print \"Numero total de muestras:\\t{}\".format(len(space[0]))\n",
    "print \"Numero esperado de muestras:\\t{}\".format(int(space[0][-1]/min_step)+1)\n",
    "stime = IO.downsample(space[0],min_sep=min_step,tol=tol)\n",
    "print \"Numero de muestras tomadas:\\t{}\".format(len(stime))"
   ]
  },
  {
   "cell_type": "markdown",
   "metadata": {},
   "source": [
    "Escribimos el espacio muestreado, por si quieres ver largas listas de floats."
   ]
  },
  {
   "cell_type": "code",
   "execution_count": 8,
   "metadata": {
    "collapsed": false,
    "scrolled": true
   },
   "outputs": [
    {
     "name": "stdout",
     "output_type": "stream",
     "text": [
      "\t. . . space file already exists\n",
      "\t. . . data file already exists, but space is unchanged; nothing written\n",
      "\r",
      "writing time: 0.0130889415741 s"
     ]
    }
   ],
   "source": [
    "t0 = time.time()\n",
    "a = IO.outwrite(space, data, samp_steps=[min_step, None, None], fprefix=\"samp-test\", tol=tol)\n",
    "t = time.time()-t0\n",
    "stdout.write(\"\\rwriting time: {0} s\".format(t))\n",
    "stdout.flush()"
   ]
  },
  {
   "cell_type": "markdown",
   "metadata": {},
   "source": [
    "Ahora leamos el nuevo archivo, de la misma forma que antes, para verificar el cambio."
   ]
  },
  {
   "cell_type": "code",
   "execution_count": 9,
   "metadata": {
    "collapsed": false
   },
   "outputs": [
    {
     "name": "stdout",
     "output_type": "stream",
     "text": [
      "loading time . . . 3.27833485603 s\n",
      "datasets: 6\ttimes: 254\ty's: 31,\tx's: 51\n"
     ]
    }
   ],
   "source": [
    "# sampled data\n",
    "stdout.write(\"\\rloading time . . . \")\n",
    "t0 = time.time()\n",
    "new_data, new_space = IO.read(prefix=\"samp-test\")\n",
    "t = time.time()-t0\n",
    "stdout.write(\"\\rloading time . . . {0} s\".format(t))\n",
    "stdout.flush()\n",
    "print \"\\ndatasets: {0}\\ttimes: {1}\\ty's: {2},\\tx's: {3}\".format(*new_data.shape)"
   ]
  }
 ],
 "metadata": {
  "kernelspec": {
   "display_name": "Python 2",
   "language": "python",
   "name": "python2"
  },
  "language_info": {
   "codemirror_mode": {
    "name": "ipython",
    "version": 2
   },
   "file_extension": ".py",
   "mimetype": "text/x-python",
   "name": "python",
   "nbconvert_exporter": "python",
   "pygments_lexer": "ipython2",
   "version": "2.7.11"
  }
 },
 "nbformat": 4,
 "nbformat_minor": 0
}
