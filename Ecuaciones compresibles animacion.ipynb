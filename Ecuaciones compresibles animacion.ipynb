{
 "cells": [
  {
   "cell_type": "code",
   "execution_count": 1,
   "metadata": {
    "collapsed": false
   },
   "outputs": [],
   "source": [
    "from numpy import *\n",
    "from matplotlib.pyplot import *\n",
    "from matplotlib import animation\n",
    "import maf_IO as IO\n",
    "from sys import stdout\n",
    "import time"
   ]
  },
  {
   "cell_type": "code",
   "execution_count": 7,
   "metadata": {
    "collapsed": false
   },
   "outputs": [
    {
     "name": "stdout",
     "output_type": "stream",
     "text": [
      "loading time . . . 0.266327142715 s\n",
      "datasets: 6\ttimes: 311\ty's: 10,\tx's: 10\n"
     ]
    }
   ],
   "source": [
    "salto = 1\n",
    "N = 5\n",
    "f_prefix = \"test\"\n",
    "\n",
    "# test data\n",
    "stdout.write(\"\\rloading time . . . \")\n",
    "t0 = time.time()\n",
    "data, space = IO.read(prefix=\"test\")\n",
    "t = time.time()-t0\n",
    "stdout.write(\"\\rloading time . . . {0} s\".format(t))\n",
    "stdout.flush()\n",
    "print \"\\ndatasets: {0}\\ttimes: {1}\\ty's: {2},\\tx's: {3}\".format(*data.shape)\n",
    "[Rhoh, Uh, Vh, Eh, Ph, Xih] = data\n",
    "[th, Y, X] = space "
   ]
  },
  {
   "cell_type": "code",
   "execution_count": 9,
   "metadata": {
    "collapsed": false
   },
   "outputs": [
    {
     "name": "stderr",
     "output_type": "stream",
     "text": [
      "/home/jz/anaconda2/lib/python2.7/site-packages/matplotlib/quiver.py:645: RuntimeWarning: divide by zero encountered in double_scalars\n",
      "  length = a * (widthu_per_lenu / (self.scale * self.width))\n",
      "/home/jz/anaconda2/lib/python2.7/site-packages/matplotlib/quiver.py:645: RuntimeWarning: invalid value encountered in multiply\n",
      "  length = a * (widthu_per_lenu / (self.scale * self.width))\n",
      "/home/jz/anaconda2/lib/python2.7/site-packages/matplotlib/quiver.py:701: RuntimeWarning: invalid value encountered in less\n",
      "  short = np.repeat(length < minsh, 8, axis=1)\n",
      "/home/jz/anaconda2/lib/python2.7/site-packages/matplotlib/quiver.py:711: RuntimeWarning: invalid value encountered in less\n",
      "  tooshort = length < self.minlength\n"
     ]
    }
   ],
   "source": [
    "UMag = [sqrt(Uh[i]**2+Vh[i]**2) for i in range(0,len(Uh))]\n",
    "\n",
    "figanim = figure(figsize=(8,8));\n",
    "Ax = figanim.add_subplot(211);\n",
    "Bx = figanim.add_subplot(212);\n",
    "\n",
    "cbar_ax = figanim.add_axes([0.85, 0.57, 0.02, 0.3]);\n",
    "cbar_bx = figanim.add_axes([0.85, 0.13, 0.02, 0.3]);\n",
    "subplots_adjust(wspace = 0.5);\n",
    "\n",
    "\n",
    "XihMax = amax(Xih)\n",
    "XihMin = amin(Xih)\n",
    "\n",
    "RhohMax = amax(Rhoh)\n",
    "RhohMin = amin(Rhoh)\n",
    "\n",
    "LevelsXi = linspace(XihMin, XihMax, 25)\n",
    "Levelsrho = linspace(RhohMin,RhohMax, 25)\n",
    "\n",
    "def init():\n",
    "    Ax.cla()\n",
    "    Bx.cla()\n",
    "    campo_vectorial = Ax.quiver([],[],[],[])\n",
    "    return campo_vectorial,\n",
    "\n",
    "# Esta funcion se llama de manera secuencial para cada elemento i.\n",
    "def animate(i,ax,bx,fig):\n",
    "    NN = i*salto\n",
    "    ax.cla()\n",
    "    bx.cla()\n",
    "    cbar_ax.cla()\n",
    "    cbar_bx.cla()\n",
    "    ax.set_title(u'Campo de vorticidad en t='+str(th[NN]))\n",
    "    bx.set_title(u'Campo de densidad en t='+str(th[NN]))\n",
    "    figanim.subplots_adjust(right=0.8)\n",
    "    contornof = ax.contourf(X, Y, Xih[NN], LevelsXi)\n",
    "    figanim.colorbar(contornof, cbar_ax)\n",
    "    contornof2 = bx.contourf(X, Y, Rhoh[NN], Levelsrho)\n",
    "    figanim.colorbar(contornof2, cbar_bx)\n",
    "    campo_vectorial = ax.quiver(X[::N], Y[::N], Uh[NN][::N,::N], Vh[NN][::N,::N])\n",
    "    return contornof, contornof2, campo_vectorial,\n",
    "\n",
    "anim=animation.FuncAnimation(figanim, animate, init_func=init, frames=len(Uh)/salto, \n",
    "                               fargs=(Ax, Bx, figanim), interval=5);\n",
    "anim.save(\"mi_anim.mp4\",fps=20);"
   ]
  }
 ],
 "metadata": {
  "kernelspec": {
   "display_name": "Python 2",
   "language": "python",
   "name": "python2"
  },
  "language_info": {
   "codemirror_mode": {
    "name": "ipython",
    "version": 2
   },
   "file_extension": ".py",
   "mimetype": "text/x-python",
   "name": "python",
   "nbconvert_exporter": "python",
   "pygments_lexer": "ipython2",
   "version": "2.7.11"
  }
 },
 "nbformat": 4,
 "nbformat_minor": 0
}
