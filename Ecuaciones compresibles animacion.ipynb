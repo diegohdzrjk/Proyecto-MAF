{
 "cells": [
  {
   "cell_type": "code",
   "execution_count": 6,
   "metadata": {
    "collapsed": false
   },
   "outputs": [],
   "source": [
    "from numpy import *\n",
    "from matplotlib.pyplot import *\n",
    "from matplotlib import animation\n",
    "import maf_IO as IO\n",
    "from sys import stdout\n",
    "import time"
   ]
  },
  {
   "cell_type": "code",
   "execution_count": 11,
   "metadata": {
    "collapsed": false
   },
   "outputs": [
    {
     "name": "stdout",
     "output_type": "stream",
     "text": [
      "\r",
      "loading time . . . "
     ]
    },
    {
     "ename": "StopIteration",
     "evalue": "",
     "output_type": "error",
     "traceback": [
      "\u001b[0;31m---------------------------------------------------------------------------\u001b[0m",
      "\u001b[0;31mStopIteration\u001b[0m                             Traceback (most recent call last)",
      "\u001b[0;32m<ipython-input-11-8ad6d5c7fa76>\u001b[0m in \u001b[0;36m<module>\u001b[0;34m()\u001b[0m\n\u001b[1;32m      6\u001b[0m \u001b[0mstdout\u001b[0m\u001b[0;34m.\u001b[0m\u001b[0mwrite\u001b[0m\u001b[0;34m(\u001b[0m\u001b[0;34m\"\\rloading time . . . \"\u001b[0m\u001b[0;34m)\u001b[0m\u001b[0;34m\u001b[0m\u001b[0m\n\u001b[1;32m      7\u001b[0m \u001b[0mt0\u001b[0m \u001b[0;34m=\u001b[0m \u001b[0mtime\u001b[0m\u001b[0;34m.\u001b[0m\u001b[0mtime\u001b[0m\u001b[0;34m(\u001b[0m\u001b[0;34m)\u001b[0m\u001b[0;34m\u001b[0m\u001b[0m\n\u001b[0;32m----> 8\u001b[0;31m \u001b[0mdata\u001b[0m\u001b[0;34m,\u001b[0m \u001b[0mspace\u001b[0m \u001b[0;34m=\u001b[0m \u001b[0mIO\u001b[0m\u001b[0;34m.\u001b[0m\u001b[0mread\u001b[0m\u001b[0;34m(\u001b[0m\u001b[0mprefix\u001b[0m\u001b[0;34m=\u001b[0m\u001b[0;34m\"test\"\u001b[0m\u001b[0;34m)\u001b[0m\u001b[0;34m\u001b[0m\u001b[0m\n\u001b[0m\u001b[1;32m      9\u001b[0m \u001b[0mt\u001b[0m \u001b[0;34m=\u001b[0m \u001b[0mtime\u001b[0m\u001b[0;34m.\u001b[0m\u001b[0mtime\u001b[0m\u001b[0;34m(\u001b[0m\u001b[0;34m)\u001b[0m\u001b[0;34m-\u001b[0m\u001b[0mt0\u001b[0m\u001b[0;34m\u001b[0m\u001b[0m\n\u001b[1;32m     10\u001b[0m \u001b[0mstdout\u001b[0m\u001b[0;34m.\u001b[0m\u001b[0mwrite\u001b[0m\u001b[0;34m(\u001b[0m\u001b[0;34m\"\\rloading time . . . {0} s\"\u001b[0m\u001b[0;34m.\u001b[0m\u001b[0mformat\u001b[0m\u001b[0;34m(\u001b[0m\u001b[0mt\u001b[0m\u001b[0;34m)\u001b[0m\u001b[0;34m)\u001b[0m\u001b[0;34m\u001b[0m\u001b[0m\n",
      "\u001b[0;32m/Users/diego/Documents/Kelvin-Helmholtz/Ecuaciones compresibles/maf_IO.pyc\u001b[0m in \u001b[0;36mread\u001b[0;34m(prefix, rdir)\u001b[0m\n\u001b[1;32m    168\u001b[0m         \u001b[0;32mfor\u001b[0m \u001b[0my\u001b[0m \u001b[0;32min\u001b[0m \u001b[0mxrange\u001b[0m\u001b[0;34m(\u001b[0m\u001b[0mlen\u001b[0m\u001b[0;34m(\u001b[0m\u001b[0mspace\u001b[0m\u001b[0;34m[\u001b[0m\u001b[0;36m1\u001b[0m\u001b[0;34m]\u001b[0m\u001b[0;34m)\u001b[0m\u001b[0;34m)\u001b[0m\u001b[0;34m:\u001b[0m\u001b[0;34m\u001b[0m\u001b[0m\n\u001b[1;32m    169\u001b[0m             \u001b[0;32mfor\u001b[0m \u001b[0mx\u001b[0m \u001b[0;32min\u001b[0m \u001b[0mxrange\u001b[0m\u001b[0;34m(\u001b[0m\u001b[0mlen\u001b[0m\u001b[0;34m(\u001b[0m\u001b[0mspace\u001b[0m\u001b[0;34m[\u001b[0m\u001b[0;36m2\u001b[0m\u001b[0;34m]\u001b[0m\u001b[0;34m)\u001b[0m\u001b[0;34m)\u001b[0m\u001b[0;34m:\u001b[0m\u001b[0;34m\u001b[0m\u001b[0m\n\u001b[0;32m--> 170\u001b[0;31m                 \u001b[0mdatamatrix\u001b[0m\u001b[0;34m[\u001b[0m\u001b[0;34m:\u001b[0m\u001b[0;34m,\u001b[0m\u001b[0mt\u001b[0m\u001b[0;34m,\u001b[0m\u001b[0my\u001b[0m\u001b[0;34m,\u001b[0m\u001b[0mx\u001b[0m\u001b[0;34m]\u001b[0m \u001b[0;34m=\u001b[0m \u001b[0mnp\u001b[0m\u001b[0;34m.\u001b[0m\u001b[0marray\u001b[0m\u001b[0;34m(\u001b[0m\u001b[0mdatareader\u001b[0m\u001b[0;34m.\u001b[0m\u001b[0mnext\u001b[0m\u001b[0;34m(\u001b[0m\u001b[0;34m)\u001b[0m\u001b[0;34m,\u001b[0m\u001b[0mdtype\u001b[0m\u001b[0;34m=\u001b[0m\u001b[0mnp\u001b[0m\u001b[0;34m.\u001b[0m\u001b[0mfloat64\u001b[0m\u001b[0;34m)\u001b[0m\u001b[0;34m\u001b[0m\u001b[0m\n\u001b[0m\u001b[1;32m    171\u001b[0m     \u001b[0;32mreturn\u001b[0m \u001b[0mdatamatrix\u001b[0m\u001b[0;34m,\u001b[0m \u001b[0mspace\u001b[0m\u001b[0;34m\u001b[0m\u001b[0m\n",
      "\u001b[0;31mStopIteration\u001b[0m: "
     ]
    }
   ],
   "source": [
    "salto = 1\n",
    "N = 5\n",
    "f_prefix = \"test\"\n",
    "\n",
    "# test data\n",
    "stdout.write(\"\\rloading time . . . \")\n",
    "t0 = time.time()\n",
    "data, space = IO.read(prefix=\"test\")\n",
    "t = time.time()-t0\n",
    "stdout.write(\"\\rloading time . . . {0} s\".format(t))\n",
    "stdout.flush()\n",
    "print \"\\ndatasets: {0}\\ttimes: {1}\\ty's: {2},\\tx's: {3}\".format(*data.shape)\n",
    "#[Rhoh, Uh, Vh, Eh, Ph, Xih] = space"
   ]
  },
  {
   "cell_type": "code",
   "execution_count": null,
   "metadata": {
    "collapsed": true
   },
   "outputs": [],
   "source": [
    "UMag = [sqrt(Uh[i]**2+Vh[i]**2) for i in range(0,len(Uh))]\n",
    "\n",
    "figanim = figure(figsize=(8,8));\n",
    "Ax = figanim.add_subplot(211);\n",
    "Bx = figanim.add_subplot(212);\n",
    "\n",
    "cbar_ax = figanim.add_axes([0.85, 0.57, 0.02, 0.3]);\n",
    "cbar_bx = figanim.add_axes([0.85, 0.13, 0.02, 0.3]);\n",
    "subplots_adjust(wspace = 0.5);\n",
    "\n",
    "\n",
    "XihMax = amax(Xih)\n",
    "XihMin = amin(Xih)\n",
    "\n",
    "RhohMax = amax(Rhoh)\n",
    "RhohMin = amin(Rhoh)\n",
    "\n",
    "LevelsXi = linspace(XihMin, XihMax, 25)\n",
    "Levelsrho = linspace(RhohMin,RhohMax, 25)\n",
    "\n",
    "def init():\n",
    "    Ax.cla()\n",
    "    Bx.cla()\n",
    "    campo_vectorial = Ax.quiver([],[],[],[])\n",
    "    return campo_vectorial,\n",
    "\n",
    "# Esta funcion se llama de manera secuencial para cada elemento i.\n",
    "def animate(i,ax,bx,fig):\n",
    "    NN = i*salto\n",
    "    ax.cla()\n",
    "    bx.cla()\n",
    "    cbar_ax.cla()\n",
    "    cbar_bx.cla()\n",
    "    ax.set_title(u'Campo de vorticidad en t='+str(th[NN]))\n",
    "    bx.set_title(u'Campo de densidad en t='+str(th[NN]))\n",
    "    figanim.subplots_adjust(right=0.8)\n",
    "    contornof = ax.contourf(X, Y, Xih[NN], LevelsXi)\n",
    "    figanim.colorbar(contornof, cbar_ax)\n",
    "    contornof2 = bx.contourf(X, Y, Rhoh[NN], Levelsrho)\n",
    "    figanim.colorbar(contornof2, cbar_bx)\n",
    "    campo_vectorial = ax.quiver(X[::N,::N], Y[::N,::N], Uh[NN][::N,::N], Vh[NN][::N,::N])\n",
    "    return contornof, contornof2, campo_vectorial,\n",
    "\n",
    "anim=animation.FuncAnimation(figanim, animate, init_func=init, frames=len(Uh)/salto, \n",
    "                               fargs=(Ax, Bx, figanim), interval=5);\n",
    "anim.save(\"mi_anim.mp4\",fps=20);"
   ]
  }
 ],
 "metadata": {
  "kernelspec": {
   "display_name": "Python 2",
   "language": "python",
   "name": "python2"
  },
  "language_info": {
   "codemirror_mode": {
    "name": "ipython",
    "version": 2
   },
   "file_extension": ".py",
   "mimetype": "text/x-python",
   "name": "python",
   "nbconvert_exporter": "python",
   "pygments_lexer": "ipython2",
   "version": "2.7.11"
  }
 },
 "nbformat": 4,
 "nbformat_minor": 0
}
